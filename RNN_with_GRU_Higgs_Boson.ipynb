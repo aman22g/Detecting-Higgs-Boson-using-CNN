{
  "nbformat": 4,
  "nbformat_minor": 0,
  "metadata": {
    "kernelspec": {
      "language": "python",
      "display_name": "Python 3",
      "name": "python3"
    },
    "language_info": {
      "name": "python",
      "version": "3.7.9",
      "mimetype": "text/x-python",
      "codemirror_mode": {
        "name": "ipython",
        "version": 3
      },
      "pygments_lexer": "ipython3",
      "nbconvert_exporter": "python",
      "file_extension": ".py"
    },
    "colab": {
      "name": "RNN with GRU - Higgs Boson.ipynb",
      "provenance": [],
      "collapsed_sections": []
    },
    "accelerator": "TPU"
  },
  "cells": [
    {
      "cell_type": "code",
      "metadata": {
        "_uuid": "8f2839f25d086af736a60e9eeb907d3b93b6e0e5",
        "_cell_guid": "b1076dfc-b9ad-4769-8c92-a6c4dae69d19",
        "execution": {
          "iopub.status.busy": "2021-08-16T14:17:18.311895Z",
          "iopub.execute_input": "2021-08-16T14:17:18.312544Z",
          "iopub.status.idle": "2021-08-16T14:17:18.322272Z",
          "shell.execute_reply.started": "2021-08-16T14:17:18.312452Z",
          "shell.execute_reply": "2021-08-16T14:17:18.321462Z"
        },
        "trusted": true,
        "id": "8xOb6eqip9H-"
      },
      "source": [
        "import numpy as np \n",
        "import pandas as pd"
      ],
      "execution_count": 1,
      "outputs": []
    },
    {
      "cell_type": "code",
      "metadata": {
        "execution": {
          "iopub.status.busy": "2021-08-16T14:17:18.331863Z",
          "iopub.execute_input": "2021-08-16T14:17:18.332450Z",
          "iopub.status.idle": "2021-08-16T14:17:25.063807Z",
          "shell.execute_reply.started": "2021-08-16T14:17:18.332411Z",
          "shell.execute_reply": "2021-08-16T14:17:25.062900Z"
        },
        "trusted": true,
        "id": "sqJR_z86p9IA"
      },
      "source": [
        "from tensorflow.keras.callbacks import ModelCheckpoint, ReduceLROnPlateau, EarlyStopping\n",
        "from tensorflow.keras.layers import Input, Dense, Concatenate,GRU,Dropout,LeakyReLU\n",
        "from tensorflow.keras.models import Model\n",
        "from tensorflow.keras.callbacks import EarlyStopping\n",
        "from tensorflow.io import FixedLenFeature\n",
        "from tensorflow import keras\n",
        "from tensorflow.keras import layers\n",
        "from tensorflow.keras import callbacks\n",
        "import seaborn as sns\n",
        "import matplotlib.pyplot as plt\n",
        "from sklearn.model_selection import StratifiedShuffleSplit\n",
        "from sklearn.preprocessing import LabelEncoder,OneHotEncoder, normalize"
      ],
      "execution_count": 2,
      "outputs": []
    },
    {
      "cell_type": "code",
      "metadata": {
        "execution": {
          "iopub.status.busy": "2021-08-16T14:17:25.065260Z",
          "iopub.execute_input": "2021-08-16T14:17:25.065686Z",
          "iopub.status.idle": "2021-08-16T14:17:25.071154Z",
          "shell.execute_reply.started": "2021-08-16T14:17:25.065657Z",
          "shell.execute_reply": "2021-08-16T14:17:25.070092Z"
        },
        "trusted": true,
        "colab": {
          "base_uri": "https://localhost:8080/"
        },
        "id": "beZvEiTcp9IA",
        "outputId": "055e7101-6021-44a1-9098-4fce693ce086"
      },
      "source": [
        "import tensorflow as tf\n",
        "print(\"Tensorflow version \" + tf.__version__)"
      ],
      "execution_count": 3,
      "outputs": [
        {
          "output_type": "stream",
          "text": [
            "Tensorflow version 2.6.0\n"
          ],
          "name": "stdout"
        }
      ]
    },
    {
      "cell_type": "code",
      "metadata": {
        "execution": {
          "iopub.status.busy": "2021-08-16T14:17:25.072864Z",
          "iopub.execute_input": "2021-08-16T14:17:25.073577Z",
          "iopub.status.idle": "2021-08-16T14:17:25.089840Z",
          "shell.execute_reply.started": "2021-08-16T14:17:25.073531Z",
          "shell.execute_reply": "2021-08-16T14:17:25.088701Z"
        },
        "trusted": true,
        "colab": {
          "base_uri": "https://localhost:8080/"
        },
        "id": "BZ6CrH90p9IB",
        "outputId": "04444ff6-608a-42ab-ec05-8d90641cb099"
      },
      "source": [
        "try: \n",
        "     tpu = tf.distribute.cluster_resolver.TPUClusterResolver.connect() # TPU detection\n",
        "     strategy = tf.distribute.TPUStrategy(tpu)\n",
        "except ValueError: # detect GPUs\n",
        "     strategy = tf.distribute.get_strategy() # default strategy that works on CPU and single GPU\n",
        "print(\"Number of accelerators: \", strategy.num_replicas_in_sync)"
      ],
      "execution_count": 4,
      "outputs": [
        {
          "output_type": "stream",
          "text": [
            "INFO:tensorflow:Clearing out eager caches\n"
          ],
          "name": "stdout"
        },
        {
          "output_type": "stream",
          "text": [
            "INFO:tensorflow:Clearing out eager caches\n"
          ],
          "name": "stderr"
        },
        {
          "output_type": "stream",
          "text": [
            "INFO:tensorflow:Initializing the TPU system: grpc://10.20.231.202:8470\n"
          ],
          "name": "stdout"
        },
        {
          "output_type": "stream",
          "text": [
            "INFO:tensorflow:Initializing the TPU system: grpc://10.20.231.202:8470\n"
          ],
          "name": "stderr"
        },
        {
          "output_type": "stream",
          "text": [
            "INFO:tensorflow:Finished initializing TPU system.\n"
          ],
          "name": "stdout"
        },
        {
          "output_type": "stream",
          "text": [
            "INFO:tensorflow:Finished initializing TPU system.\n"
          ],
          "name": "stderr"
        },
        {
          "output_type": "stream",
          "text": [
            "INFO:tensorflow:Found TPU system:\n"
          ],
          "name": "stdout"
        },
        {
          "output_type": "stream",
          "text": [
            "INFO:tensorflow:Found TPU system:\n"
          ],
          "name": "stderr"
        },
        {
          "output_type": "stream",
          "text": [
            "INFO:tensorflow:*** Num TPU Cores: 8\n"
          ],
          "name": "stdout"
        },
        {
          "output_type": "stream",
          "text": [
            "INFO:tensorflow:*** Num TPU Cores: 8\n"
          ],
          "name": "stderr"
        },
        {
          "output_type": "stream",
          "text": [
            "INFO:tensorflow:*** Num TPU Workers: 1\n"
          ],
          "name": "stdout"
        },
        {
          "output_type": "stream",
          "text": [
            "INFO:tensorflow:*** Num TPU Workers: 1\n"
          ],
          "name": "stderr"
        },
        {
          "output_type": "stream",
          "text": [
            "INFO:tensorflow:*** Num TPU Cores Per Worker: 8\n"
          ],
          "name": "stdout"
        },
        {
          "output_type": "stream",
          "text": [
            "INFO:tensorflow:*** Num TPU Cores Per Worker: 8\n"
          ],
          "name": "stderr"
        },
        {
          "output_type": "stream",
          "text": [
            "INFO:tensorflow:*** Available Device: _DeviceAttributes(/job:localhost/replica:0/task:0/device:CPU:0, CPU, 0, 0)\n"
          ],
          "name": "stdout"
        },
        {
          "output_type": "stream",
          "text": [
            "INFO:tensorflow:*** Available Device: _DeviceAttributes(/job:localhost/replica:0/task:0/device:CPU:0, CPU, 0, 0)\n"
          ],
          "name": "stderr"
        },
        {
          "output_type": "stream",
          "text": [
            "INFO:tensorflow:*** Available Device: _DeviceAttributes(/job:worker/replica:0/task:0/device:CPU:0, CPU, 0, 0)\n"
          ],
          "name": "stdout"
        },
        {
          "output_type": "stream",
          "text": [
            "INFO:tensorflow:*** Available Device: _DeviceAttributes(/job:worker/replica:0/task:0/device:CPU:0, CPU, 0, 0)\n"
          ],
          "name": "stderr"
        },
        {
          "output_type": "stream",
          "text": [
            "INFO:tensorflow:*** Available Device: _DeviceAttributes(/job:worker/replica:0/task:0/device:TPU:0, TPU, 0, 0)\n"
          ],
          "name": "stdout"
        },
        {
          "output_type": "stream",
          "text": [
            "INFO:tensorflow:*** Available Device: _DeviceAttributes(/job:worker/replica:0/task:0/device:TPU:0, TPU, 0, 0)\n"
          ],
          "name": "stderr"
        },
        {
          "output_type": "stream",
          "text": [
            "INFO:tensorflow:*** Available Device: _DeviceAttributes(/job:worker/replica:0/task:0/device:TPU:1, TPU, 0, 0)\n"
          ],
          "name": "stdout"
        },
        {
          "output_type": "stream",
          "text": [
            "INFO:tensorflow:*** Available Device: _DeviceAttributes(/job:worker/replica:0/task:0/device:TPU:1, TPU, 0, 0)\n"
          ],
          "name": "stderr"
        },
        {
          "output_type": "stream",
          "text": [
            "INFO:tensorflow:*** Available Device: _DeviceAttributes(/job:worker/replica:0/task:0/device:TPU:2, TPU, 0, 0)\n"
          ],
          "name": "stdout"
        },
        {
          "output_type": "stream",
          "text": [
            "INFO:tensorflow:*** Available Device: _DeviceAttributes(/job:worker/replica:0/task:0/device:TPU:2, TPU, 0, 0)\n"
          ],
          "name": "stderr"
        },
        {
          "output_type": "stream",
          "text": [
            "INFO:tensorflow:*** Available Device: _DeviceAttributes(/job:worker/replica:0/task:0/device:TPU:3, TPU, 0, 0)\n"
          ],
          "name": "stdout"
        },
        {
          "output_type": "stream",
          "text": [
            "INFO:tensorflow:*** Available Device: _DeviceAttributes(/job:worker/replica:0/task:0/device:TPU:3, TPU, 0, 0)\n"
          ],
          "name": "stderr"
        },
        {
          "output_type": "stream",
          "text": [
            "INFO:tensorflow:*** Available Device: _DeviceAttributes(/job:worker/replica:0/task:0/device:TPU:4, TPU, 0, 0)\n"
          ],
          "name": "stdout"
        },
        {
          "output_type": "stream",
          "text": [
            "INFO:tensorflow:*** Available Device: _DeviceAttributes(/job:worker/replica:0/task:0/device:TPU:4, TPU, 0, 0)\n"
          ],
          "name": "stderr"
        },
        {
          "output_type": "stream",
          "text": [
            "INFO:tensorflow:*** Available Device: _DeviceAttributes(/job:worker/replica:0/task:0/device:TPU:5, TPU, 0, 0)\n"
          ],
          "name": "stdout"
        },
        {
          "output_type": "stream",
          "text": [
            "INFO:tensorflow:*** Available Device: _DeviceAttributes(/job:worker/replica:0/task:0/device:TPU:5, TPU, 0, 0)\n"
          ],
          "name": "stderr"
        },
        {
          "output_type": "stream",
          "text": [
            "INFO:tensorflow:*** Available Device: _DeviceAttributes(/job:worker/replica:0/task:0/device:TPU:6, TPU, 0, 0)\n"
          ],
          "name": "stdout"
        },
        {
          "output_type": "stream",
          "text": [
            "INFO:tensorflow:*** Available Device: _DeviceAttributes(/job:worker/replica:0/task:0/device:TPU:6, TPU, 0, 0)\n"
          ],
          "name": "stderr"
        },
        {
          "output_type": "stream",
          "text": [
            "INFO:tensorflow:*** Available Device: _DeviceAttributes(/job:worker/replica:0/task:0/device:TPU:7, TPU, 0, 0)\n"
          ],
          "name": "stdout"
        },
        {
          "output_type": "stream",
          "text": [
            "INFO:tensorflow:*** Available Device: _DeviceAttributes(/job:worker/replica:0/task:0/device:TPU:7, TPU, 0, 0)\n"
          ],
          "name": "stderr"
        },
        {
          "output_type": "stream",
          "text": [
            "INFO:tensorflow:*** Available Device: _DeviceAttributes(/job:worker/replica:0/task:0/device:TPU_SYSTEM:0, TPU_SYSTEM, 0, 0)\n"
          ],
          "name": "stdout"
        },
        {
          "output_type": "stream",
          "text": [
            "INFO:tensorflow:*** Available Device: _DeviceAttributes(/job:worker/replica:0/task:0/device:TPU_SYSTEM:0, TPU_SYSTEM, 0, 0)\n"
          ],
          "name": "stderr"
        },
        {
          "output_type": "stream",
          "text": [
            "INFO:tensorflow:*** Available Device: _DeviceAttributes(/job:worker/replica:0/task:0/device:XLA_CPU:0, XLA_CPU, 0, 0)\n"
          ],
          "name": "stdout"
        },
        {
          "output_type": "stream",
          "text": [
            "INFO:tensorflow:*** Available Device: _DeviceAttributes(/job:worker/replica:0/task:0/device:XLA_CPU:0, XLA_CPU, 0, 0)\n"
          ],
          "name": "stderr"
        },
        {
          "output_type": "stream",
          "text": [
            "Number of accelerators:  8\n"
          ],
          "name": "stdout"
        }
      ]
    },
    {
      "cell_type": "code",
      "metadata": {
        "execution": {
          "iopub.status.busy": "2021-08-16T14:17:25.091310Z",
          "iopub.execute_input": "2021-08-16T14:17:25.091915Z",
          "iopub.status.idle": "2021-08-16T14:17:25.096370Z",
          "shell.execute_reply.started": "2021-08-16T14:17:25.091874Z",
          "shell.execute_reply": "2021-08-16T14:17:25.095377Z"
        },
        "trusted": true,
        "id": "NddD7zRJp9IB"
      },
      "source": [
        "\n",
        "AUTO = tf.data.experimental.AUTOTUNE"
      ],
      "execution_count": 5,
      "outputs": []
    },
    {
      "cell_type": "code",
      "metadata": {
        "execution": {
          "iopub.status.busy": "2021-08-16T14:17:25.099868Z",
          "iopub.execute_input": "2021-08-16T14:17:25.100314Z",
          "iopub.status.idle": "2021-08-16T14:17:31.529346Z",
          "shell.execute_reply.started": "2021-08-16T14:17:25.100283Z",
          "shell.execute_reply": "2021-08-16T14:17:31.528489Z"
        },
        "trusted": true,
        "colab": {
          "base_uri": "https://localhost:8080/"
        },
        "id": "-EaT3b_ip9IB",
        "outputId": "edfbac98-e8de-4675-9618-12c4d1d87684"
      },
      "source": [
        "data_train = pd.read_csv('higgs-boson/training.csv')\n",
        "data_test = pd.read_csv('higgs-boson/test.csv')\n",
        "\n",
        "print(data_train.shape,data_test.shape)"
      ],
      "execution_count": 6,
      "outputs": [
        {
          "output_type": "stream",
          "text": [
            "(250000, 33) (550000, 31)\n"
          ],
          "name": "stdout"
        }
      ]
    },
    {
      "cell_type": "code",
      "metadata": {
        "execution": {
          "iopub.status.busy": "2021-08-16T14:17:31.532510Z",
          "iopub.execute_input": "2021-08-16T14:17:31.532964Z",
          "iopub.status.idle": "2021-08-16T14:17:31.541159Z",
          "shell.execute_reply.started": "2021-08-16T14:17:31.532918Z",
          "shell.execute_reply": "2021-08-16T14:17:31.539975Z"
        },
        "trusted": true,
        "id": "urvbfYUep9IC",
        "colab": {
          "base_uri": "https://localhost:8080/"
        },
        "outputId": "3a3ff5c1-96a9-4f6d-8bdd-f91b0e17817b"
      },
      "source": [
        "list(set(data_train.columns ) - set(data_test.columns))"
      ],
      "execution_count": 8,
      "outputs": [
        {
          "output_type": "execute_result",
          "data": {
            "text/plain": [
              "['Label', 'Weight']"
            ]
          },
          "metadata": {},
          "execution_count": 8
        }
      ]
    },
    {
      "cell_type": "code",
      "metadata": {
        "execution": {
          "iopub.status.busy": "2021-08-16T14:17:31.543174Z",
          "iopub.execute_input": "2021-08-16T14:17:31.543459Z",
          "iopub.status.idle": "2021-08-16T14:17:31.581889Z",
          "shell.execute_reply.started": "2021-08-16T14:17:31.543433Z",
          "shell.execute_reply": "2021-08-16T14:17:31.580842Z"
        },
        "trusted": true,
        "id": "DAyKYP7Lp9ID"
      },
      "source": [
        "data_train.drop(['Weight'], axis=1,inplace=True)"
      ],
      "execution_count": 9,
      "outputs": []
    },
    {
      "cell_type": "code",
      "metadata": {
        "execution": {
          "iopub.status.busy": "2021-08-16T14:17:31.584071Z",
          "iopub.execute_input": "2021-08-16T14:17:31.584395Z",
          "iopub.status.idle": "2021-08-16T14:17:31.858653Z",
          "shell.execute_reply.started": "2021-08-16T14:17:31.584366Z",
          "shell.execute_reply": "2021-08-16T14:17:31.857802Z"
        },
        "trusted": true,
        "id": "l6iunC16p9IE",
        "colab": {
          "base_uri": "https://localhost:8080/",
          "height": 281
        },
        "outputId": "a9319c3f-43ce-44cc-f6af-e8b0a653f456"
      },
      "source": [
        "sns.barplot(x = data_train['Label'].value_counts().index, y = data_train['Label'].value_counts().values)\n",
        "plt.title('Label counts')\n",
        "plt.show()"
      ],
      "execution_count": 10,
      "outputs": [
        {
          "output_type": "display_data",
          "data": {
            "image/png": "[encoded data removed]",
            "text/plain": [
              "<Figure size 432x288 with 1 Axes>"
            ]
          },
          "metadata": {
            "needs_background": "light"
          }
        }
      ]
    },
    {
      "cell_type": "code",
      "metadata": {
        "execution": {
          "iopub.status.busy": "2021-08-16T14:17:31.860111Z",
          "iopub.execute_input": "2021-08-16T14:17:31.860422Z",
          "iopub.status.idle": "2021-08-16T14:17:31.977143Z",
          "shell.execute_reply.started": "2021-08-16T14:17:31.860394Z",
          "shell.execute_reply": "2021-08-16T14:17:31.976298Z"
        },
        "trusted": true,
        "id": "TkmpGZyPp9IE",
        "colab": {
          "base_uri": "https://localhost:8080/",
          "height": 224
        },
        "outputId": "78b04eb6-200f-4e73-f16e-8b4ac79dfb46"
      },
      "source": [
        "enc = LabelEncoder()\n",
        "\n",
        "data_train['Label'] = enc.fit_transform(data_train['Label'])\n",
        "data_train.head()"
      ],
      "execution_count": 11,
      "outputs": [
        {
          "output_type": "execute_result",
          "data": {
            "text/html": [
              "<div>\n",
              "<style scoped>\n",
              "    .dataframe tbody tr th:only-of-type {\n",
              "        vertical-align: middle;\n",
              "    }\n",
              "\n",
              "    .dataframe tbody tr th {\n",
              "        vertical-align: top;\n",
              "    }\n",
              "\n",
              "    .dataframe thead th {\n",
              "        text-align: right;\n",
              "    }\n",
              "</style>\n",
              "<table border=\"1\" class=\"dataframe\">\n",
              "  <thead>\n",
              "    <tr style=\"text-align: right;\">\n",
              "      <th></th>\n",
              "      <th>EventId</th>\n",
              "      <th>DER_mass_MMC</th>\n",
              "      <th>DER_mass_transverse_met_lep</th>\n",
              "      <th>DER_mass_vis</th>\n",
              "      <th>DER_pt_h</th>\n",
              "      <th>DER_deltaeta_jet_jet</th>\n",
              "      <th>DER_mass_jet_jet</th>\n",
              "      <th>DER_prodeta_jet_jet</th>\n",
              "      <th>DER_deltar_tau_lep</th>\n",
              "      <th>DER_pt_tot</th>\n",
              "      <th>DER_sum_pt</th>\n",
              "      <th>DER_pt_ratio_lep_tau</th>\n",
              "      <th>DER_met_phi_centrality</th>\n",
              "      <th>DER_lep_eta_centrality</th>\n",
              "      <th>PRI_tau_pt</th>\n",
              "      <th>PRI_tau_eta</th>\n",
              "      <th>PRI_tau_phi</th>\n",
              "      <th>PRI_lep_pt</th>\n",
              "      <th>PRI_lep_eta</th>\n",
              "      <th>PRI_lep_phi</th>\n",
              "      <th>PRI_met</th>\n",
              "      <th>PRI_met_phi</th>\n",
              "      <th>PRI_met_sumet</th>\n",
              "      <th>PRI_jet_num</th>\n",
              "      <th>PRI_jet_leading_pt</th>\n",
              "      <th>PRI_jet_leading_eta</th>\n",
              "      <th>PRI_jet_leading_phi</th>\n",
              "      <th>PRI_jet_subleading_pt</th>\n",
              "      <th>PRI_jet_subleading_eta</th>\n",
              "      <th>PRI_jet_subleading_phi</th>\n",
              "      <th>PRI_jet_all_pt</th>\n",
              "      <th>Label</th>\n",
              "    </tr>\n",
              "  </thead>\n",
              "  <tbody>\n",
              "    <tr>\n",
              "      <th>0</th>\n",
              "      <td>100000</td>\n",
              "      <td>138.470</td>\n",
              "      <td>51.655</td>\n",
              "      <td>97.827</td>\n",
              "      <td>27.980</td>\n",
              "      <td>0.91</td>\n",
              "      <td>124.711</td>\n",
              "      <td>2.666</td>\n",
              "      <td>3.064</td>\n",
              "      <td>41.928</td>\n",
              "      <td>197.760</td>\n",
              "      <td>1.582</td>\n",
              "      <td>1.396</td>\n",
              "      <td>0.2</td>\n",
              "      <td>32.638</td>\n",
              "      <td>1.017</td>\n",
              "      <td>0.381</td>\n",
              "      <td>51.626</td>\n",
              "      <td>2.273</td>\n",
              "      <td>-2.414</td>\n",
              "      <td>16.824</td>\n",
              "      <td>-0.277</td>\n",
              "      <td>258.733</td>\n",
              "      <td>2</td>\n",
              "      <td>67.435</td>\n",
              "      <td>2.150</td>\n",
              "      <td>0.444</td>\n",
              "      <td>46.062</td>\n",
              "      <td>1.24</td>\n",
              "      <td>-2.475</td>\n",
              "      <td>113.497</td>\n",
              "      <td>1</td>\n",
              "    </tr>\n",
              "    <tr>\n",
              "      <th>1</th>\n",
              "      <td>100001</td>\n",
              "      <td>160.937</td>\n",
              "      <td>68.768</td>\n",
              "      <td>103.235</td>\n",
              "      <td>48.146</td>\n",
              "      <td>-999.00</td>\n",
              "      <td>-999.000</td>\n",
              "      <td>-999.000</td>\n",
              "      <td>3.473</td>\n",
              "      <td>2.078</td>\n",
              "      <td>125.157</td>\n",
              "      <td>0.879</td>\n",
              "      <td>1.414</td>\n",
              "      <td>-999.0</td>\n",
              "      <td>42.014</td>\n",
              "      <td>2.039</td>\n",
              "      <td>-3.011</td>\n",
              "      <td>36.918</td>\n",
              "      <td>0.501</td>\n",
              "      <td>0.103</td>\n",
              "      <td>44.704</td>\n",
              "      <td>-1.916</td>\n",
              "      <td>164.546</td>\n",
              "      <td>1</td>\n",
              "      <td>46.226</td>\n",
              "      <td>0.725</td>\n",
              "      <td>1.158</td>\n",
              "      <td>-999.000</td>\n",
              "      <td>-999.00</td>\n",
              "      <td>-999.000</td>\n",
              "      <td>46.226</td>\n",
              "      <td>0</td>\n",
              "    </tr>\n",
              "    <tr>\n",
              "      <th>2</th>\n",
              "      <td>100002</td>\n",
              "      <td>-999.000</td>\n",
              "      <td>162.172</td>\n",
              "      <td>125.953</td>\n",
              "      <td>35.635</td>\n",
              "      <td>-999.00</td>\n",
              "      <td>-999.000</td>\n",
              "      <td>-999.000</td>\n",
              "      <td>3.148</td>\n",
              "      <td>9.336</td>\n",
              "      <td>197.814</td>\n",
              "      <td>3.776</td>\n",
              "      <td>1.414</td>\n",
              "      <td>-999.0</td>\n",
              "      <td>32.154</td>\n",
              "      <td>-0.705</td>\n",
              "      <td>-2.093</td>\n",
              "      <td>121.409</td>\n",
              "      <td>-0.953</td>\n",
              "      <td>1.052</td>\n",
              "      <td>54.283</td>\n",
              "      <td>-2.186</td>\n",
              "      <td>260.414</td>\n",
              "      <td>1</td>\n",
              "      <td>44.251</td>\n",
              "      <td>2.053</td>\n",
              "      <td>-2.028</td>\n",
              "      <td>-999.000</td>\n",
              "      <td>-999.00</td>\n",
              "      <td>-999.000</td>\n",
              "      <td>44.251</td>\n",
              "      <td>0</td>\n",
              "    </tr>\n",
              "    <tr>\n",
              "      <th>3</th>\n",
              "      <td>100003</td>\n",
              "      <td>143.905</td>\n",
              "      <td>81.417</td>\n",
              "      <td>80.943</td>\n",
              "      <td>0.414</td>\n",
              "      <td>-999.00</td>\n",
              "      <td>-999.000</td>\n",
              "      <td>-999.000</td>\n",
              "      <td>3.310</td>\n",
              "      <td>0.414</td>\n",
              "      <td>75.968</td>\n",
              "      <td>2.354</td>\n",
              "      <td>-1.285</td>\n",
              "      <td>-999.0</td>\n",
              "      <td>22.647</td>\n",
              "      <td>-1.655</td>\n",
              "      <td>0.010</td>\n",
              "      <td>53.321</td>\n",
              "      <td>-0.522</td>\n",
              "      <td>-3.100</td>\n",
              "      <td>31.082</td>\n",
              "      <td>0.060</td>\n",
              "      <td>86.062</td>\n",
              "      <td>0</td>\n",
              "      <td>-999.000</td>\n",
              "      <td>-999.000</td>\n",
              "      <td>-999.000</td>\n",
              "      <td>-999.000</td>\n",
              "      <td>-999.00</td>\n",
              "      <td>-999.000</td>\n",
              "      <td>-0.000</td>\n",
              "      <td>0</td>\n",
              "    </tr>\n",
              "    <tr>\n",
              "      <th>4</th>\n",
              "      <td>100004</td>\n",
              "      <td>175.864</td>\n",
              "      <td>16.915</td>\n",
              "      <td>134.805</td>\n",
              "      <td>16.405</td>\n",
              "      <td>-999.00</td>\n",
              "      <td>-999.000</td>\n",
              "      <td>-999.000</td>\n",
              "      <td>3.891</td>\n",
              "      <td>16.405</td>\n",
              "      <td>57.983</td>\n",
              "      <td>1.056</td>\n",
              "      <td>-1.385</td>\n",
              "      <td>-999.0</td>\n",
              "      <td>28.209</td>\n",
              "      <td>-2.197</td>\n",
              "      <td>-2.231</td>\n",
              "      <td>29.774</td>\n",
              "      <td>0.798</td>\n",
              "      <td>1.569</td>\n",
              "      <td>2.723</td>\n",
              "      <td>-0.871</td>\n",
              "      <td>53.131</td>\n",
              "      <td>0</td>\n",
              "      <td>-999.000</td>\n",
              "      <td>-999.000</td>\n",
              "      <td>-999.000</td>\n",
              "      <td>-999.000</td>\n",
              "      <td>-999.00</td>\n",
              "      <td>-999.000</td>\n",
              "      <td>0.000</td>\n",
              "      <td>0</td>\n",
              "    </tr>\n",
              "  </tbody>\n",
              "</table>\n",
              "</div>"
            ],
            "text/plain": [
              "   EventId  DER_mass_MMC  ...  PRI_jet_all_pt  Label\n",
              "0   100000       138.470  ...         113.497      1\n",
              "1   100001       160.937  ...          46.226      0\n",
              "2   100002      -999.000  ...          44.251      0\n",
              "3   100003       143.905  ...          -0.000      0\n",
              "4   100004       175.864  ...           0.000      0\n",
              "\n",
              "[5 rows x 32 columns]"
            ]
          },
          "metadata": {},
          "execution_count": 11
        }
      ]
    },
    {
      "cell_type": "code",
      "metadata": {
        "execution": {
          "iopub.status.busy": "2021-08-16T14:17:31.978511Z",
          "iopub.execute_input": "2021-08-16T14:17:31.978822Z",
          "iopub.status.idle": "2021-08-16T14:17:31.987226Z",
          "shell.execute_reply.started": "2021-08-16T14:17:31.978794Z",
          "shell.execute_reply": "2021-08-16T14:17:31.986093Z"
        },
        "trusted": true,
        "id": "Th8Dypgdp9IF"
      },
      "source": [
        "data_train.set_index(['EventId'],inplace = True)\n",
        "data_test.set_index(['EventId'],inplace = True)"
      ],
      "execution_count": 12,
      "outputs": []
    },
    {
      "cell_type": "code",
      "metadata": {
        "execution": {
          "iopub.status.busy": "2021-08-16T14:17:31.988756Z",
          "iopub.execute_input": "2021-08-16T14:17:31.989068Z",
          "iopub.status.idle": "2021-08-16T14:17:32.022424Z",
          "shell.execute_reply.started": "2021-08-16T14:17:31.989014Z",
          "shell.execute_reply": "2021-08-16T14:17:32.021516Z"
        },
        "trusted": true,
        "id": "zyFHaa7Hp9IF"
      },
      "source": [
        "X = data_train.drop(['Label'], axis=1)\n",
        "y = data_train['Label'].values"
      ],
      "execution_count": 13,
      "outputs": []
    },
    {
      "cell_type": "code",
      "metadata": {
        "execution": {
          "iopub.status.busy": "2021-08-16T14:17:32.023818Z",
          "iopub.execute_input": "2021-08-16T14:17:32.024108Z",
          "iopub.status.idle": "2021-08-16T14:17:32.250346Z",
          "shell.execute_reply.started": "2021-08-16T14:17:32.024080Z",
          "shell.execute_reply": "2021-08-16T14:17:32.249207Z"
        },
        "trusted": true,
        "id": "i9XzshXvp9IF"
      },
      "source": [
        "X = normalize(X)\n",
        "data_test_nor = normalize(data_test)"
      ],
      "execution_count": 14,
      "outputs": []
    },
    {
      "cell_type": "code",
      "metadata": {
        "execution": {
          "iopub.status.busy": "2021-08-16T14:17:32.252134Z",
          "iopub.execute_input": "2021-08-16T14:17:32.252545Z",
          "iopub.status.idle": "2021-08-16T14:17:32.532953Z",
          "shell.execute_reply.started": "2021-08-16T14:17:32.252502Z",
          "shell.execute_reply": "2021-08-16T14:17:32.531817Z"
        },
        "trusted": true,
        "id": "Fmq2_r3-p9IF"
      },
      "source": [
        "split_data=StratifiedShuffleSplit(n_splits=1,random_state=12)\n",
        "\n",
        "for train,test in split_data.split(X,y):     #this will splits the index\n",
        "    X_train_1 = X[train]\n",
        "    y_train_1 = y[train]\n",
        "    X_test_1 = X[test]\n",
        "    y_test_1 = y[test]"
      ],
      "execution_count": 15,
      "outputs": []
    },
    {
      "cell_type": "code",
      "metadata": {
        "execution": {
          "iopub.status.busy": "2021-08-16T14:17:32.534088Z",
          "iopub.execute_input": "2021-08-16T14:17:32.534344Z",
          "iopub.status.idle": "2021-08-16T14:17:32.539228Z",
          "shell.execute_reply.started": "2021-08-16T14:17:32.534318Z",
          "shell.execute_reply": "2021-08-16T14:17:32.538102Z"
        },
        "trusted": true,
        "id": "d215yjpAp9IF"
      },
      "source": [
        "X_train_1 = np.reshape(X_train_1, (X_train_1.shape[0],X_train_1.shape[1],1))\n",
        "X_test_1 = np.reshape(X_test_1, (X_test_1.shape[0],X_test_1.shape[1],1))"
      ],
      "execution_count": 16,
      "outputs": []
    },
    {
      "cell_type": "code",
      "metadata": {
        "execution": {
          "iopub.status.busy": "2021-08-16T14:17:32.540663Z",
          "iopub.execute_input": "2021-08-16T14:17:32.541057Z",
          "iopub.status.idle": "2021-08-16T14:17:32.554850Z",
          "shell.execute_reply.started": "2021-08-16T14:17:32.541017Z",
          "shell.execute_reply": "2021-08-16T14:17:32.553580Z"
        },
        "trusted": true,
        "id": "hWjUw7Evp9IF",
        "colab": {
          "base_uri": "https://localhost:8080/"
        },
        "outputId": "2a6db150-622d-4a16-e3fe-59a5a940e1a1"
      },
      "source": [
        "X_train_1.shape[2]"
      ],
      "execution_count": 17,
      "outputs": [
        {
          "output_type": "execute_result",
          "data": {
            "text/plain": [
              "1"
            ]
          },
          "metadata": {},
          "execution_count": 17
        }
      ]
    },
    {
      "cell_type": "code",
      "metadata": {
        "execution": {
          "iopub.status.busy": "2021-08-16T16:11:19.739448Z",
          "iopub.execute_input": "2021-08-16T16:11:19.739868Z",
          "iopub.status.idle": "2021-08-16T16:11:19.750981Z",
          "shell.execute_reply.started": "2021-08-16T16:11:19.739831Z",
          "shell.execute_reply": "2021-08-16T16:11:19.749830Z"
        },
        "trusted": true,
        "id": "-iGcn7Nbp9IG"
      },
      "source": [
        "def make_Gru_model(train_x,train_y,x_test,y_test):\n",
        "    inp = Input(shape=(train_x.shape[1],train_x.shape[2]))\n",
        "    rnn_1st_layer = GRU(units = 60,return_sequences=True,recurrent_dropout=0.1)(inp)\n",
        "    rnn_2nd_layer = GRU(units = 60,recurrent_dropout=0.1)(rnn_1st_layer)\n",
        "    dense_layer = Dense(128)(rnn_2nd_layer)\n",
        "    drop_out = Dropout(0.25)(dense_layer)\n",
        "    output = Dense(1, activation= LeakyReLU(alpha=0.1),name=\"class\")(drop_out)\n",
        "    model = Model(inp, output)\n",
        "    callbacks = [ReduceLROnPlateau(monitor='val_loss', patience=4, verbose=1, factor=0.6),\n",
        "                 EarlyStopping(monitor='val_loss', patience=20),\n",
        "                 ModelCheckpoint(filepath='results_model_GRU.h5', monitor='val_loss', save_best_only=True)]\n",
        "    model.summary()\n",
        "    model.compile(loss=[tf.keras.losses.MeanSquaredLogarithmicError()], optimizer=\"adam\",metrics=['accuracy'])\n",
        "    history = model.fit(train_x, train_y, \n",
        "          epochs = 10, \n",
        "          batch_size = 128, \n",
        "          validation_data=(x_test,  y_test), \n",
        "          callbacks=callbacks)\n",
        "    y_pred = model.predict(x_test).ravel()\n",
        "    return history,model"
      ],
      "execution_count": 18,
      "outputs": []
    },
    {
      "cell_type": "code",
      "metadata": {
        "execution": {
          "iopub.status.busy": "2021-08-16T15:57:14.862788Z",
          "iopub.execute_input": "2021-08-16T15:57:14.863501Z",
          "iopub.status.idle": "2021-08-16T15:57:14.870983Z",
          "shell.execute_reply.started": "2021-08-16T15:57:14.863457Z",
          "shell.execute_reply": "2021-08-16T15:57:14.869661Z"
        },
        "trusted": true,
        "id": "II1_15M9p9IH"
      },
      "source": [
        "def plot_Loss(history):\n",
        "    plt.plot(history.history['loss'])\n",
        "    plt.plot(history.history['val_loss'])\n",
        "    plt.title('Loss over epochs')\n",
        "    plt.ylabel('Loss')\n",
        "    plt.xlabel('Epoch')\n",
        "    plt.legend(['Train', 'Validation'], loc='best')\n",
        "    plt.show()"
      ],
      "execution_count": 19,
      "outputs": []
    },
    {
      "cell_type": "code",
      "metadata": {
        "id": "QJpDAkQdp9IH"
      },
      "source": [
        "def plot_Accuracy(history):\n",
        "    plt.plot(history.history['accuracy'])\n",
        "    plt.plot(history.history['val_accuracy'])\n",
        "    plt.title('Model accuracy')\n",
        "    plt.ylabel('Accuracy')\n",
        "    plt.xlabel('Epoch')\n",
        "    plt.legend(['Train', 'Validation'], loc='best')\n",
        "    plt.show()"
      ],
      "execution_count": 20,
      "outputs": []
    },
    {
      "cell_type": "code",
      "metadata": {
        "execution": {
          "iopub.status.busy": "2021-08-16T14:17:32.602499Z",
          "iopub.execute_input": "2021-08-16T14:17:32.602843Z",
          "iopub.status.idle": "2021-08-16T14:17:32.614104Z",
          "shell.execute_reply.started": "2021-08-16T14:17:32.602814Z",
          "shell.execute_reply": "2021-08-16T14:17:32.612860Z"
        },
        "trusted": true,
        "id": "j56oSQe-p9IH"
      },
      "source": [
        "\n",
        "def Save_Result_To_Csv(model,model_name,csv_file):\n",
        "    test_1 = np.reshape(test_data_nor, (test_data_nor.shape[0],test_data_nor.shape[1],1))\n",
        "    model.load_weights(model_name)\n",
        "    prediction = model.predict(test_1)\n",
        "    prediction =  np.where(prediction > 0.5, 1, 0)\n",
        "    prediction = pd.Series(prediction[:,0])\n",
        "    save_file = pd.read_csv('/higgs-boson/results.zip')\n",
        "    test_predict = pd.DataFrame({\"EventId\":sub['EventId'],\"RankOrder\":sub['RankOrder'],\"Class\":prediction})\n",
        "    test_predict['Class'] = test_predict['Class'].replace(1,'s')\n",
        "    test_predict['Class'] = test_predict['Class'].replace(0,'b')\n",
        "    test_predict.to_csv(csv_file,index=False)"
      ],
      "execution_count": 21,
      "outputs": []
    },
    {
      "cell_type": "code",
      "metadata": {
        "execution": {
          "iopub.status.busy": "2021-08-16T16:11:28.254484Z",
          "iopub.execute_input": "2021-08-16T16:11:28.254913Z",
          "iopub.status.idle": "2021-08-16T16:11:28.302313Z",
          "shell.execute_reply.started": "2021-08-16T16:11:28.254876Z",
          "shell.execute_reply": "2021-08-16T16:11:28.301088Z"
        },
        "trusted": true,
        "id": "3t9W-wQ7p9IH",
        "colab": {
          "base_uri": "https://localhost:8080/"
        },
        "outputId": "84f1c7b9-2d3f-4e88-d62e-5a0145f43da9"
      },
      "source": [
        "history_GRU,Gru_model = make_Gru_model(X_train_1,y_train_1,X_test_1,y_test_1)"
      ],
      "execution_count": 22,
      "outputs": [
        {
          "output_type": "stream",
          "text": [
            "Model: \"model\"\n",
            "_________________________________________________________________\n",
            "Layer (type)                 Output Shape              Param #   \n",
            "=================================================================\n",
            "input_1 (InputLayer)         [(None, 30, 1)]           0         \n",
            "_________________________________________________________________\n",
            "gru (GRU)                    (None, 30, 60)            11340     \n",
            "_________________________________________________________________\n",
            "gru_1 (GRU)                  (None, 60)                21960     \n",
            "_________________________________________________________________\n",
            "dense (Dense)                (None, 128)               7808      \n",
            "_________________________________________________________________\n",
            "dropout (Dropout)            (None, 128)               0         \n",
            "_________________________________________________________________\n",
            "class (Dense)                (None, 1)                 129       \n",
            "=================================================================\n",
            "Total params: 41,237\n",
            "Trainable params: 41,237\n",
            "Non-trainable params: 0\n",
            "_________________________________________________________________\n",
            "Epoch 1/10\n",
            "1758/1758 [==============================] - 113s 62ms/step - loss: 0.1029 - accuracy: 0.6711 - val_loss: 0.0950 - val_accuracy: 0.6962\n",
            "Epoch 2/10\n",
            "1758/1758 [==============================] - 108s 61ms/step - loss: 0.0959 - accuracy: 0.6919 - val_loss: 0.0973 - val_accuracy: 0.6996\n",
            "Epoch 3/10\n",
            "1758/1758 [==============================] - 108s 62ms/step - loss: 0.0947 - accuracy: 0.6925 - val_loss: 0.0913 - val_accuracy: 0.7011\n",
            "Epoch 4/10\n",
            "1758/1758 [==============================] - 108s 61ms/step - loss: 0.0920 - accuracy: 0.6940 - val_loss: 0.0866 - val_accuracy: 0.6985\n",
            "Epoch 5/10\n",
            "1758/1758 [==============================] - 108s 62ms/step - loss: 0.0894 - accuracy: 0.7022 - val_loss: 0.0847 - val_accuracy: 0.7116\n",
            "Epoch 6/10\n",
            "1758/1758 [==============================] - 108s 61ms/step - loss: 0.0878 - accuracy: 0.7081 - val_loss: 0.0840 - val_accuracy: 0.7270\n",
            "Epoch 7/10\n",
            "1758/1758 [==============================] - 108s 61ms/step - loss: 0.0862 - accuracy: 0.7169 - val_loss: 0.0845 - val_accuracy: 0.7255\n",
            "Epoch 8/10\n",
            "1758/1758 [==============================] - 108s 61ms/step - loss: 0.0846 - accuracy: 0.7229 - val_loss: 0.0794 - val_accuracy: 0.7468\n",
            "Epoch 9/10\n",
            "1758/1758 [==============================] - 108s 61ms/step - loss: 0.0804 - accuracy: 0.7445 - val_loss: 0.0723 - val_accuracy: 0.7723\n",
            "Epoch 10/10\n",
            "1758/1758 [==============================] - 108s 61ms/step - loss: 0.0747 - accuracy: 0.7695 - val_loss: 0.0717 - val_accuracy: 0.7790\n"
          ],
          "name": "stdout"
        }
      ]
    },
    {
      "cell_type": "code",
      "metadata": {
        "execution": {
          "iopub.status.busy": "2021-08-16T15:40:39.334439Z",
          "iopub.execute_input": "2021-08-16T15:40:39.335218Z",
          "iopub.status.idle": "2021-08-16T15:40:39.542208Z",
          "shell.execute_reply.started": "2021-08-16T15:40:39.335167Z",
          "shell.execute_reply": "2021-08-16T15:40:39.541442Z"
        },
        "trusted": true,
        "id": "wFrJ-MOxp9II",
        "colab": {
          "base_uri": "https://localhost:8080/",
          "height": 295
        },
        "outputId": "0e024b76-da3e-4a30-bb65-7820ac2d24e5"
      },
      "source": [
        "plot_Loss(history_GRU)"
      ],
      "execution_count": 23,
      "outputs": [
        {
          "output_type": "display_data",
          "data": {
            "image/png": "[encoded data removed]",
            "text/plain": [
              "<Figure size 432x288 with 1 Axes>"
            ]
          },
          "metadata": {
            "needs_background": "light"
          }
        }
      ]
    },
    {
      "cell_type": "code",
      "metadata": {
        "id": "gphpEE-ep9II",
        "colab": {
          "base_uri": "https://localhost:8080/",
          "height": 295
        },
        "outputId": "0045b300-eaac-48e1-a011-cbb045df33b5"
      },
      "source": [
        "plot_Accuracy(history_GRU)"
      ],
      "execution_count": 24,
      "outputs": [
        {
          "output_type": "display_data",
          "data": {
            "image/png": "[encoded data removed]",
            "text/plain": [
              "<Figure size 432x288 with 1 Axes>"
            ]
          },
          "metadata": {
            "needs_background": "light"
          }
        }
      ]
    }
  ]
}